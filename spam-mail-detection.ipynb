{
 "cells": [
  {
   "cell_type": "code",
   "execution_count": 16,
   "id": "08ff3823",
   "metadata": {},
   "outputs": [
    {
     "name": "stdout",
     "output_type": "stream",
     "text": [
      "96.3076923076923\n",
      "              precision    recall  f1-score   support\n",
      "\n",
      "           0       0.96      1.00      0.98      3377\n",
      "           1       0.99      0.73      0.84       523\n",
      "\n",
      "    accuracy                           0.96      3900\n",
      "   macro avg       0.98      0.86      0.91      3900\n",
      "weighted avg       0.96      0.96      0.96      3900\n",
      "\n",
      "  (0, 3801)\t0.5225389271541555\n",
      "  (0, 1984)\t0.8526154289060127\n",
      "Mail is ham\n"
     ]
    }
   ],
   "source": [
    "import numpy as np\n",
    "import pandas as pd\n",
    "import matplotlib.pyplot as plt\n",
    "from sklearn.feature_extraction.text import TfidfVectorizer\n",
    "from sklearn.model_selection import train_test_split\n",
    "from sklearn.linear_model import LogisticRegression\n",
    "from sklearn.preprocessing import StandardScaler\n",
    "from sklearn.metrics import accuracy_score, classification_report\n",
    "\n",
    "df= pd.read_csv('mail_data.csv')\n",
    "# df.head()\n",
    "X = df['Message']\n",
    "y= df['Category']\n",
    "\n",
    "X_train, X_test, y_train, y_test = train_test_split(X, y, test_size=0.30, random_state=42)\n",
    "# print(X_train)\n",
    "# transform text data into feature data so that it can be trained using logistic regression\n",
    "\n",
    "feature_extraction = TfidfVectorizer(min_df = 1,stop_words= 'english',lowercase= True)\n",
    "X_train_features = feature_extraction.fit_transform(X_train)\n",
    "X_test_features= feature_extraction.transform(X_test)\n",
    "\n",
    "# convert y_train and y_test values as integer\n",
    "from sklearn.preprocessing import LabelEncoder\n",
    "label_encoder = LabelEncoder()\n",
    "# Fit and transform the labels in y_train and y_test to integers\n",
    "y_train_encoded = label_encoder.fit_transform(y_train)\n",
    "y_test_encoded = label_encoder.transform(y_test)\n",
    "# print(X_train_features)\n",
    "classifier = LogisticRegression()\n",
    "classifier.fit(X_train_features,y_train_encoded)\n",
    "\n",
    "y_pred = classifier.predict(X_train_features)\n",
    "score = accuracy_score(y_train_encoded,y_pred)*100\n",
    "print(score)\n",
    "print(classification_report(y_train_encoded,y_pred))\n",
    "\n",
    "# input_mail = [\"WINNER!! As a valued network customer you have been selected to receivea £900 prize reward! To claim call 09061701461. Claim code KL341. Valid 12 hours only.\"]\n",
    "input_mail = [\"Anything lor... U decide...\"]\n",
    "input_data_features = feature_extraction.transform(input_mail)\n",
    "prediction = classifier.predict(input_data_features)\n",
    "print(input_data_features)\n",
    "\n",
    "if (prediction[0]==0):\n",
    "    print('Mail is ham')\n",
    "else:\n",
    "    print('Mail is spam')"
   ]
  },
  {
   "cell_type": "code",
   "execution_count": null,
   "id": "7d80aaad",
   "metadata": {},
   "outputs": [],
   "source": []
  }
 ],
 "metadata": {
  "kernelspec": {
   "display_name": "Python 3 (ipykernel)",
   "language": "python",
   "name": "python3"
  },
  "language_info": {
   "codemirror_mode": {
    "name": "ipython",
    "version": 3
   },
   "file_extension": ".py",
   "mimetype": "text/x-python",
   "name": "python",
   "nbconvert_exporter": "python",
   "pygments_lexer": "ipython3",
   "version": "3.11.5"
  }
 },
 "nbformat": 4,
 "nbformat_minor": 5
}
